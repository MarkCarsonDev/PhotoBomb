{
 "cells": [
  {
   "cell_type": "code",
   "execution_count": 1,
   "metadata": {},
   "outputs": [],
   "source": [
    "# import face_recognition\n",
    "import unittest\n",
    "import os\n",
    "import numpy as np\n",
    "from click.testing import CliRunner\n",
    "\n",
    "from face_recognition import api\n",
    "from face_recognition import face_recognition_cli\n",
    "from face_recognition import face_detection_cli\n",
    "\n",
    "import os\n",
    "import numpy as np\n",
    "from face_recognition import api\n",
    "from sklearn.cluster import DBSCAN\n",
    "from collections import defaultdict"
   ]
  },
  {
   "cell_type": "code",
   "execution_count": 2,
   "metadata": {},
   "outputs": [
    {
     "name": "stdout",
     "output_type": "stream",
     "text": [
      "128\n"
     ]
    }
   ],
   "source": [
    "def get_face_encodings(folder_path):\n",
    "    encodings = []\n",
    "    file_paths = []\n",
    "    for file_name in os.listdir(folder_path):\n",
    "        file_path = os.path.join(folder_path, file_name)\n",
    "        image = api.load_image_file(file_path)\n",
    "        face_encodings = api.face_encodings(image)\n",
    "        if face_encodings:\n",
    "            encodings.append(face_encodings[0])  # Assuming one face per image\n",
    "            file_paths.append(file_path)\n",
    "    return encodings, file_paths\n",
    "\n",
    "known_folder = \"photos/known_faces\"\n",
    "unknown_folder = \"photos/unknown_faces\"\n",
    "\n",
    "known_encodings, known_paths = get_face_encodings(known_folder)\n",
    "unknown_encodings, unknown_paths = get_face_encodings(unknown_folder)\n",
    "\n",
    "all_encodings = known_encodings + unknown_encodings\n",
    "print(len(all_encodings[0]))\n"
   ]
  },
  {
   "cell_type": "code",
   "execution_count": 5,
   "metadata": {},
   "outputs": [
    {
     "name": "stdout",
     "output_type": "stream",
     "text": [
      "[-5.14035411e-02  7.78007656e-02 -7.85855949e-03  7.83444010e-03\n",
      " -1.04334146e-01  1.88750494e-02  5.40590659e-03 -1.00495167e-01\n",
      "  1.63838074e-01 -1.55132219e-01  3.01148564e-01 -4.08388637e-02\n",
      " -3.37635368e-01 -4.95465659e-02 -6.79349005e-02  1.23000219e-01\n",
      " -7.39021301e-02 -1.06222264e-01 -7.18452409e-02 -1.54797629e-01\n",
      "  1.17018715e-01  7.72570968e-02 -1.05661247e-02  2.78139953e-02\n",
      " -1.90182030e-01 -2.26765171e-01 -8.17275122e-02 -1.17221847e-01\n",
      "  7.23719671e-02 -1.48138121e-01  1.68969519e-02  8.68462622e-02\n",
      " -1.09084748e-01 -1.73151512e-02  6.84938803e-02  9.81915146e-02\n",
      " -5.40035293e-02 -4.60427143e-02  2.62658477e-01  8.48521665e-03\n",
      " -1.87697917e-01 -5.07488549e-02  3.03445645e-02  2.81404823e-01\n",
      "  1.33905843e-01  1.86462011e-02  5.42550534e-03 -8.28128457e-02\n",
      "  1.49981990e-01 -1.97875351e-01  7.08558708e-02  1.29258633e-01\n",
      "  2.35844627e-01  8.58479589e-02  8.45161527e-02 -2.78427392e-01\n",
      "  8.74418765e-05  1.69854417e-01 -2.39883780e-01  2.76353918e-02\n",
      " -4.95622866e-03 -9.41139907e-02 -1.01955235e-02  9.70722456e-03\n",
      "  1.85849011e-01  5.16132563e-02 -1.34513170e-01 -1.25252038e-01\n",
      "  2.60934114e-01 -1.71711057e-01  6.80002710e-03  2.26081565e-01\n",
      " -1.21581033e-01 -2.32777119e-01 -1.65374681e-01  4.09277752e-02\n",
      "  4.88022059e-01  1.39256284e-01 -1.50570586e-01  9.44466796e-03\n",
      "  2.32989173e-02 -6.77244067e-02  7.60434419e-02  8.36825371e-02\n",
      " -6.57213256e-02 -1.08431317e-02 -7.80358687e-02  4.45002392e-02\n",
      "  1.75078258e-01 -6.14578575e-02 -8.97084847e-02  2.30230793e-01\n",
      " -5.12816571e-03  5.80506399e-02  6.66972920e-02  2.12810878e-02\n",
      " -1.04761124e-01  1.88181531e-02 -3.89927700e-02 -4.35185209e-02\n",
      "  2.42582895e-02 -1.56988248e-01  5.55070257e-03  4.45790663e-02\n",
      " -1.35293335e-01  1.96567789e-01 -2.21166536e-02  9.51605476e-03\n",
      " -8.94310325e-02 -2.53865663e-02 -9.08102542e-02  7.43027404e-02\n",
      "  2.11872801e-01 -3.55928302e-01  2.11601928e-01  1.15861997e-01\n",
      " -1.70820430e-02  1.91681221e-01  6.57930747e-02  5.36615439e-02\n",
      "  7.86256418e-02 -1.32988006e-01 -2.19825849e-01 -1.16748288e-01\n",
      "  6.10624887e-02 -1.13401420e-01  1.07504144e-01 -2.94303857e-02]\n"
     ]
    }
   ],
   "source": [
    "print(all_encodings[0])"
   ]
  },
  {
   "cell_type": "code",
   "execution_count": 3,
   "metadata": {},
   "outputs": [
    {
     "name": "stdout",
     "output_type": "stream",
     "text": [
      "Cluster 0:\n",
      "  - photos/known_faces\\IMG_5401.jpg\n",
      "  - photos/unknown_faces\\image0.jpg\n",
      "  - photos/unknown_faces\\image1.jpg\n",
      "  - photos/unknown_faces\\image2.jpg\n",
      "Cluster 1:\n",
      "  - photos/known_faces\\rn_image_picker_lib_temp_820ef847-389d-4b67-9a7a-f36edc967bbc.jpg\n",
      "  - photos/unknown_faces\\20240413_122016.jpg\n",
      "  - photos/unknown_faces\\20241006_162622.jpg\n",
      "Cluster 2:\n",
      "  - photos/known_faces\\Screenshot 2024-10-24 221400.png\n",
      "  - photos/unknown_faces\\IMG_2747.jpg\n",
      "Unclustered faces:\n",
      "  - photos/known_faces\\Screenshot 2024-10-24 221507.png\n",
      "  - photos/unknown_faces\\20240324_023250.jpg\n",
      "  - photos/unknown_faces\\IMG_2488.jpg\n",
      "  - photos/unknown_faces\\IMG_2617.png\n",
      "  - photos/unknown_faces\\IMG_3721.jpg\n"
     ]
    }
   ],
   "source": [
    "db = DBSCAN(eps=0.5, min_samples=2, metric=\"euclidean\").fit(all_encodings)\n",
    "labels = db.labels_\n",
    "\n",
    "clusters = defaultdict(list)\n",
    "for idx, label in enumerate(labels):\n",
    "    image_path = known_paths[idx] if idx < len(known_encodings) else unknown_paths[idx - len(known_encodings)]\n",
    "    clusters[label].append(image_path)\n",
    "\n",
    "for label, images in clusters.items():\n",
    "    if label == -1:\n",
    "        print(\"Unclustered faces:\")\n",
    "    else:\n",
    "        print(f\"Cluster {label}:\")\n",
    "    for image_path in images:\n",
    "        print(f\"  - {image_path}\")\n"
   ]
  }
 ],
 "metadata": {
  "kernelspec": {
   "display_name": "venv",
   "language": "python",
   "name": "python3"
  },
  "language_info": {
   "codemirror_mode": {
    "name": "ipython",
    "version": 3
   },
   "file_extension": ".py",
   "mimetype": "text/x-python",
   "name": "python",
   "nbconvert_exporter": "python",
   "pygments_lexer": "ipython3",
   "version": "3.11.8"
  }
 },
 "nbformat": 4,
 "nbformat_minor": 2
}
