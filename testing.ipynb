{
 "cells": [
  {
   "cell_type": "code",
   "execution_count": 1,
   "metadata": {},
   "outputs": [],
   "source": [
    "import os\n",
    "import numpy as np\n",
    "from face_recognition import api\n",
    "from sklearn.cluster import DBSCAN\n",
    "from collections import defaultdict"
   ]
  },
  {
   "cell_type": "code",
   "execution_count": null,
   "metadata": {},
   "outputs": [],
   "source": [
    "def get_face_encodings(folder_path):\n",
    "    encodings = []\n",
    "    file_paths = []\n",
    "    for file_name in os.listdir(folder_path):\n",
    "        file_path = os.path.join(folder_path, file_name)\n",
    "        image = api.load_image_file(file_path)\n",
    "        face_encodings = api.face_encodings(image)\n",
    "        for encoding in face_encodings:\n",
    "            encodings.append(encoding)\n",
    "            file_paths.append(file_path)  # Associate each encoding with the image path\n",
    "    return encodings, file_paths\n",
    "\n",
    "# Paths to known and unknown face folders\n",
    "known_folder = \"photos/known_faces\"\n",
    "unknown_folder = \"photos/unknown_faces\"\n",
    "\n",
    "# Get encodings and file paths for both known and unknown images\n",
    "known_encodings, known_paths = get_face_encodings(known_folder)\n",
    "unknown_encodings, unknown_paths = get_face_encodings(unknown_folder)\n",
    "\n",
    "# Combine all encodings and paths\n",
    "all_encodings = known_encodings + unknown_encodings\n",
    "all_paths = known_paths + unknown_paths"
   ]
  },
  {
   "cell_type": "code",
   "execution_count": null,
   "metadata": {},
   "outputs": [],
   "source": [
    "# Run DBSCAN on all encodings\n",
    "dbscan = DBSCAN(eps=0.6, min_samples=1, metric=\"euclidean\").fit(all_encodings)\n",
    "labels = dbscan.labels_\n",
    "\n",
    "# Organize clusters by unique faces\n",
    "face_clusters = defaultdict(set)\n",
    "\n",
    "for idx, label in enumerate(labels):\n",
    "    if label != -1:  # Exclude noise points\n",
    "        image_path = all_paths[idx]\n",
    "        face_clusters[label].add(image_path)\n",
    "\n",
    "# Display clusters\n",
    "for label, images in face_clusters.items():\n",
    "    print(f\"Cluster {label} (unique face):\")\n",
    "    for image_path in images:\n",
    "        print(f\"  - {image_path}\")\n",
    "\n",
    "# For unclustered (noise) points\n",
    "unclustered_images = [all_paths[idx] for idx, label in enumerate(labels) if label == -1]\n",
    "if unclustered_images:\n",
    "    print(\"\\nUnclustered faces:\")\n",
    "    for image_path in set(unclustered_images):  # Unique images only\n",
    "        print(f\"  - {image_path}\")"
   ]
  }
 ],
 "metadata": {
  "kernelspec": {
   "display_name": "venv",
   "language": "python",
   "name": "python3"
  },
  "language_info": {
   "codemirror_mode": {
    "name": "ipython",
    "version": 3
   },
   "file_extension": ".py",
   "mimetype": "text/x-python",
   "name": "python",
   "nbconvert_exporter": "python",
   "pygments_lexer": "ipython3",
   "version": "3.11.8"
  }
 },
 "nbformat": 4,
 "nbformat_minor": 2
}
